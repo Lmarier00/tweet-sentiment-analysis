{
 "cells": [
  {
   "cell_type": "code",
   "execution_count": null,
   "metadata": {},
   "outputs": [],
   "source": [
    "# Running these commands once may be needed\n",
    "# ! pip install textblob\n",
    "# import nltk\n",
    "# nltk.download('movie_reviews')\n",
    "# nltk.download('punkt')"
   ]
  },
  {
   "cell_type": "code",
   "execution_count": 44,
   "metadata": {},
   "outputs": [],
   "source": [
    "# Imports\n",
    "\n",
    "import pandas as pd\n",
    "from textblob import TextBlob"
   ]
  },
  {
   "cell_type": "code",
   "execution_count": 72,
   "metadata": {},
   "outputs": [
    {
     "name": "stdout",
     "output_type": "stream",
     "text": [
      "Loaded 10 tweets into raw_tweets[]\n"
     ]
    }
   ],
   "source": [
    "# Load sample tweet data\n",
    "\n",
    "file_name = './Resources/sample_tweets.txt'\n",
    "with open(file_name, encoding = \"ISO-8859-1\") as f:\n",
    "    raw_tweets = f.readlines()\n",
    "    \n",
    "# Limit number of entries for testing purposes\n",
    "n_testing = 10\n",
    "raw_tweets = raw_tweets[:n_testing]\n",
    "    \n",
    "# Remove `\\n` at the end of each line\n",
    "raw_tweets = [x.strip() for x in raw_tweets] \n",
    "\n",
    "print(f'Loaded {len(raw_tweets)} tweets into raw_tweets[]')\n",
    "\n"
   ]
  },
  {
   "cell_type": "code",
   "execution_count": 74,
   "metadata": {},
   "outputs": [
    {
     "name": "stdout",
     "output_type": "stream",
     "text": [
      "Global Voices Online ÃÂ» Alex Castro: A liberal, libertarian and libertine Brazilian blogger\n",
      "Do the Conservatives Have a Death Wish?\n",
      "I've seen all of your movies and Capitalism is my favorite. Keep up the great work!\n",
      "* House Dems ask for civility at town halls and invoke George Washington in quest for socialism\n",
      "Quote of the week: My political opinions lean more and more towards Anarchy &lt;Tolkien the anarchist?!\n",
      "LOL, I like quotes. Feminist, anti-men quotes.\n",
      "I also think that most liberals don't spend a lot of time thinking about tolerating. Tolerance connotes condescension.\n",
      "check explains brownshirts. Conservative action plan for august recess All mtgs disrupted\n",
      "Finally US asks for extradition of Polanski - what were they waiting for? #feminism\n",
      "FUNNY! Teabagger quoting (but not understanding) Liberal Justice. William O Douglas. WHAT A HOOT ...\n"
     ]
    }
   ],
   "source": [
    "# Clean data\n",
    "\n",
    "tweets = []\n",
    "for i in range(len(raw_tweets)):\n",
    "    raw_tweet = raw_tweets[i]\n",
    "    cleaned_tweet = ''\n",
    "    \n",
    "    # Remove leading tags for political vs non political (not general to twitter, a feature of the sample data)\n",
    "    if (raw_tweet[0:5] == 'POLIT'):\n",
    "        cleaned_tweet = raw_tweet[6:]\n",
    "    elif (raw_tweet[0:3] == 'NOT'):\n",
    "        cleaned_tweet= raw_tweet[4:]\n",
    "    else:\n",
    "        cleaned_tweet = raw_tweet\n",
    "\n",
    "    # Remove URLs\n",
    "    raw_tweet = cleaned_tweet\n",
    "    cleaned_tweet = ' '.join(word for word in raw_tweet.split(' ') if not word.startswith('http'))\n",
    "    \n",
    "    # Remove 'RT'\n",
    "    raw_tweet = cleaned_tweet\n",
    "    cleaned_tweet = ' '.join(word for word in raw_tweet.split(' ') if not word.startswith('RT'))\n",
    "    \n",
    "    # Remove Twitter handles (any word starting with '@')\n",
    "    raw_tweet = cleaned_tweet\n",
    "    cleaned_tweet = ' '.join(word for word in raw_tweet.split(' ') if not word.startswith('@'))\n",
    "    \n",
    "    # Write cleaned_tweet to tweets[]\n",
    "    tweets.append(cleaned_tweet)\n",
    "        \n",
    "        \n",
    "# Display tweets[]\n",
    "for tweet in tweets:\n",
    "    print(tweet)\n",
    "\n",
    "\n",
    "\n"
   ]
  },
  {
   "cell_type": "code",
   "execution_count": 77,
   "metadata": {},
   "outputs": [
    {
     "name": "stdout",
     "output_type": "stream",
     "text": [
      "Global Voices Online ÃÂ» Alex Castro: A liberal, libertarian and libertine Brazilian blogger\n",
      "sentiment: pos (0.997)\n",
      "\n",
      "\n",
      "Do the Conservatives Have a Death Wish?\n",
      "sentiment: pos (0.846)\n",
      "\n",
      "\n",
      "I've seen all of your movies and Capitalism is my favorite. Keep up the great work!\n",
      "sentiment: pos (0.673)\n",
      "\n",
      "\n",
      "* House Dems ask for civility at town halls and invoke George Washington in quest for socialism\n",
      "sentiment: pos (0.946)\n",
      "\n",
      "\n",
      "Quote of the week: My political opinions lean more and more towards Anarchy &lt;Tolkien the anarchist?!\n",
      "sentiment: pos (0.997)\n",
      "\n",
      "\n",
      "LOL, I like quotes. Feminist, anti-men quotes.\n",
      "sentiment: neg (-0.898)\n",
      "\n",
      "\n",
      "I also think that most liberals don't spend a lot of time thinking about tolerating. Tolerance connotes condescension.\n",
      "sentiment: pos (0.994)\n",
      "\n",
      "\n",
      "check explains brownshirts. Conservative action plan for august recess All mtgs disrupted\n",
      "sentiment: pos (0.886)\n",
      "\n",
      "\n",
      "Finally US asks for extradition of Polanski - what were they waiting for? #feminism\n",
      "sentiment: pos (0.684)\n",
      "\n",
      "\n",
      "FUNNY! Teabagger quoting (but not understanding) Liberal Justice. William O Douglas. WHAT A HOOT ...\n",
      "sentiment: pos (0.99)\n",
      "\n",
      "\n"
     ]
    }
   ],
   "source": [
    "# Assess sentiment \n",
    "from textblob.sentiments import NaiveBayesAnalyzer\n",
    "\n",
    "for tweet in tweets:\n",
    "    # Calculate tweet sentiment\n",
    "    blob = TextBlob(tweet, analyzer=NaiveBayesAnalyzer())\n",
    "\n",
    "    # Build numeric sentiment score in range [-1, 1]\n",
    "    if blob.sentiment.classification == 'pos':\n",
    "        sentiment_score = blob.sentiment.p_pos\n",
    "    elif blob.sentiment.classification == 'neg':\n",
    "        sentiment_score = -1 * blob.sentiment.p_neg\n",
    "    else: \n",
    "        sentiment_score = float('NaN')\n",
    "    \n",
    "    # Print tweet and score\n",
    "    print(blob)\n",
    "    print(f'sentiment: {blob.sentiment.classification} ({round(sentiment_score, 3)})')\n"
   ]
  },
  {
   "cell_type": "code",
   "execution_count": 15,
   "metadata": {},
   "outputs": [],
   "source": []
  },
  {
   "cell_type": "code",
   "execution_count": null,
   "metadata": {},
   "outputs": [],
   "source": []
  }
 ],
 "metadata": {
  "kernelspec": {
   "display_name": "Python 3",
   "language": "python",
   "name": "python3"
  },
  "language_info": {
   "codemirror_mode": {
    "name": "ipython",
    "version": 3
   },
   "file_extension": ".py",
   "mimetype": "text/x-python",
   "name": "python",
   "nbconvert_exporter": "python",
   "pygments_lexer": "ipython3",
   "version": "3.7.0"
  }
 },
 "nbformat": 4,
 "nbformat_minor": 2
}
