{
 "cells": [
  {
   "cell_type": "code",
   "execution_count": null,
   "metadata": {},
   "outputs": [],
   "source": [
    "# Running these commands once may be needed\n",
    "# ! pip install textblob\n",
    "# import nltk\n",
    "# nltk.download('movie_reviews')\n",
    "# nltk.download('punkt')"
   ]
  },
  {
   "cell_type": "code",
   "execution_count": 4,
   "metadata": {},
   "outputs": [],
   "source": [
    "# Imports\n",
    "\n",
    "import pandas as pd\n",
    "from textblob import TextBlob"
   ]
  },
  {
   "cell_type": "code",
   "execution_count": 9,
   "metadata": {},
   "outputs": [
    {
     "name": "stdout",
     "output_type": "stream",
     "text": [
      "POLIT\tGlobal Voices Online Ã‚Â» Alex Castro: A liberal, libertarian and libertine Brazilian blogger http://ff.im/-6izrC\n",
      "POLIT\tDo the Conservatives Have a Death Wish? http://bit.ly/323Kq5\n",
      "NOT\t@MMFlint I've seen all of your movies and Capitalism is my favorite. Keep up the great work!\n",
      "POLIT\tRT @AllianceAlert: * House Dems ask for civility at town halls and invoke George Washington in quest for socialism http://bit.ly/19BktL\n",
      "POLIT\tRT @AdamSmithInst Quote of the week: My political opinions lean more and more towards Anarchy http://bit.ly/71NT5u &lt;Tolkien the anarchist?!\n",
      "NOT\t@DeeptiLamba LOL, I like quotes. Feminist, anti-men quotes.\n"
     ]
    }
   ],
   "source": [
    "# Load sample tweet data\n",
    "fname = './Resources/sample_tweets_small.txt'\n",
    "with open(fname) as f:\n",
    "    data = f.readlines()\n",
    "    \n",
    "# Remove `\\n` at the end of each line\n",
    "data = [x.strip() for x in data] \n",
    "\n",
    "for line in data:\n",
    "    print(line)"
   ]
  },
  {
   "cell_type": "code",
   "execution_count": 14,
   "metadata": {},
   "outputs": [
    {
     "name": "stdout",
     "output_type": "stream",
     "text": [
      "POLIT\tGlobal Voices Online Ã‚Â» Alex Castro: A liberal, libertarian and libertine Brazilian blogger http://ff.im/-6izrC\n",
      "Sentiment(classification='pos', p_pos=0.9982770988405222, p_neg=0.0017229011594775251)\n",
      "\n",
      "\n",
      "POLIT\tDo the Conservatives Have a Death Wish? http://bit.ly/323Kq5\n",
      "Sentiment(classification='pos', p_pos=0.9109526445929808, p_neg=0.08904735540701907)\n",
      "\n",
      "\n",
      "NOT\t@MMFlint I've seen all of your movies and Capitalism is my favorite. Keep up the great work!\n",
      "Sentiment(classification='pos', p_pos=0.6773295213396716, p_neg=0.32267047866032844)\n",
      "\n",
      "\n",
      "POLIT\tRT @AllianceAlert: * House Dems ask for civility at town halls and invoke George Washington in quest for socialism http://bit.ly/19BktL\n",
      "Sentiment(classification='pos', p_pos=0.9700148222736507, p_neg=0.02998517772634707)\n",
      "\n",
      "\n",
      "POLIT\tRT @AdamSmithInst Quote of the week: My political opinions lean more and more towards Anarchy http://bit.ly/71NT5u &lt;Tolkien the anarchist?!\n",
      "Sentiment(classification='pos', p_pos=0.9983879165594348, p_neg=0.0016120834405706286)\n",
      "\n",
      "\n",
      "NOT\t@DeeptiLamba LOL, I like quotes. Feminist, anti-men quotes.\n",
      "Sentiment(classification='neg', p_pos=0.10367969890346615, p_neg=0.8963203010965342)\n",
      "\n",
      "\n"
     ]
    }
   ],
   "source": [
    "# Assess sentiment \n",
    "from textblob.sentiments import NaiveBayesAnalyzer\n",
    "\n",
    "for tweet in data:\n",
    "    blob = TextBlob(tweet, analyzer=NaiveBayesAnalyzer())\n",
    "    print(blob)\n",
    "    print(blob.sentiment)\n",
    "    print('\\n')\n"
   ]
  },
  {
   "cell_type": "code",
   "execution_count": 15,
   "metadata": {},
   "outputs": [],
   "source": []
  },
  {
   "cell_type": "code",
   "execution_count": null,
   "metadata": {},
   "outputs": [],
   "source": []
  }
 ],
 "metadata": {
  "kernelspec": {
   "display_name": "Python 3",
   "language": "python",
   "name": "python3"
  },
  "language_info": {
   "codemirror_mode": {
    "name": "ipython",
    "version": 3
   },
   "file_extension": ".py",
   "mimetype": "text/x-python",
   "name": "python",
   "nbconvert_exporter": "python",
   "pygments_lexer": "ipython3",
   "version": "3.7.0"
  }
 },
 "nbformat": 4,
 "nbformat_minor": 2
}
